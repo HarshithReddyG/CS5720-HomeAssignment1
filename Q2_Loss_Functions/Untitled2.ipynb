{
  "nbformat": 4,
  "nbformat_minor": 0,
  "metadata": {
    "colab": {
      "provenance": []
    },
    "kernelspec": {
      "name": "python3",
      "display_name": "Python 3"
    },
    "language_info": {
      "name": "python"
    }
  },
  "cells": [
    {
      "cell_type": "markdown",
      "source": [
        "#Implementing and comapring loss functions for custom dataset"
      ],
      "metadata": {
        "id": "gc6V_tBb1fRf"
      }
    },
    {
      "cell_type": "code",
      "source": [
        "#importing libraries\n",
        "import tensorflow as tf\n",
        "import numpy as np\n",
        "import matplotlib.pyplot as plt"
      ],
      "metadata": {
        "id": "ulYWeiBs2eSE"
      },
      "execution_count": 20,
      "outputs": []
    },
    {
      "cell_type": "markdown",
      "source": [
        "1. Defining custom dataset y_true and y_pred for true values and model predictions"
      ],
      "metadata": {
        "id": "4uVw8KvW1wRC"
      }
    },
    {
      "cell_type": "code",
      "source": [
        "y_true = np.array([1, 0, 1, 1, 0, 1])\n",
        "y_pred = np.array([\n",
        "    [0.9, 0.1],\n",
        "    [0.8, 0.2],\n",
        "    [0.7, 0.3],\n",
        "    [0.6, 0.4],\n",
        "    [0.2, 0.8],\n",
        "    [0.9, 0.1]\n",
        "])"
      ],
      "metadata": {
        "id": "4J1iJdYB1tSz"
      },
      "execution_count": 44,
      "outputs": []
    },
    {
      "cell_type": "markdown",
      "source": [
        " 2. computing mean squared error (MSE) and Categorical Cross-Entropy (CCE) losses using tf.keras.losses.MeanSquaredError() for MSE and tf.losses.CategoricalCrossentropy() for CCE.\n"
      ],
      "metadata": {
        "id": "87JxAI9O2wQj"
      }
    },
    {
      "cell_type": "code",
      "source": [
        "mse_loss = tf.keras.losses.MeanSquaredError()\n",
        "cce_loss = tf.keras.losses.CategoricalCrossentropy()"
      ],
      "metadata": {
        "id": "DvfBE2Xz2v5T"
      },
      "execution_count": 22,
      "outputs": []
    },
    {
      "cell_type": "markdown",
      "source": [
        "3. using the references mse_loss and cce_loss to compute the loss values for the given y_true and y_pred.\n",
        "4. for CCE using converting y_tre to one hot encoded format with 2 depth (binary classification)"
      ],
      "metadata": {
        "id": "1a21ItdK4rfJ"
      }
    },
    {
      "cell_type": "code",
      "source": [
        "y_true_one_hot = tf.one_hot(y_true, depth=2)\n",
        "mse_value = mse_loss(y_true_one_hot, y_pred).numpy()\n",
        "cce_value = cce_loss(y_true_one_hot, y_pred).numpy()"
      ],
      "metadata": {
        "id": "F6jo5Wah3nWl"
      },
      "execution_count": 46,
      "outputs": []
    },
    {
      "cell_type": "markdown",
      "source": [
        "5. Initial values of MSE and CCE for our initial dataset."
      ],
      "metadata": {
        "id": "9kVU_yK16F4a"
      }
    },
    {
      "cell_type": "code",
      "source": [
        "print(f\"Mean Squared Error (MSE): {mse_value:.4f}\")\n",
        "print(f\"Categorical Cross-Entropy (CCE): {cce_value:.4f}\")"
      ],
      "metadata": {
        "colab": {
          "base_uri": "https://localhost:8080/"
        },
        "id": "1EmI1diY3pbs",
        "outputId": "6260e2d2-939c-45ec-f461-873a74e6e7b2"
      },
      "execution_count": 47,
      "outputs": [
        {
          "output_type": "stream",
          "name": "stdout",
          "text": [
            "Mean Squared Error (MSE): 0.5250\n",
            "Categorical Cross-Entropy (CCE): 1.4263\n"
          ]
        }
      ]
    },
    {
      "cell_type": "markdown",
      "source": [
        "6. slightly changing the values of t_pred and naming it as y_pred_modified\n",
        "7. calculating the modified MSE and CCE using the same parameters that we used above."
      ],
      "metadata": {
        "id": "8jiN3Iwj6MQn"
      }
    },
    {
      "cell_type": "code",
      "source": [
        "y_pred_modified = np.array([\n",
        "    [0.85, 0.15],\n",
        "    [0.75, 0.25],\n",
        "    [0.65, 0.35],\n",
        "    [0.55, 0.45],\n",
        "    [0.3, 0.7],\n",
        "    [0.95, 0.05]\n",
        "])\n",
        "mse_value_modified = mse_loss(y_true_one_hot, y_pred_modified).numpy()\n",
        "cce_value_modified = cce_loss(y_true_one_hot, y_pred_modified).numpy()"
      ],
      "metadata": {
        "id": "v1CQTYs83rsN"
      },
      "execution_count": 50,
      "outputs": []
    },
    {
      "cell_type": "markdown",
      "source": [
        "8. Modified values of MSE and CCE with slightly modified dataset."
      ],
      "metadata": {
        "id": "d3c9E0pn6hCa"
      }
    },
    {
      "cell_type": "code",
      "source": [
        "print(f\"Modified MSE: {mse_value_modified:.4f}\")\n",
        "print(f\"Modified CCE: {cce_value_modified:.4f}\")"
      ],
      "metadata": {
        "colab": {
          "base_uri": "https://localhost:8080/"
        },
        "id": "daWo8GxO3twd",
        "outputId": "7071a206-b93a-4172-9fbf-dd601290ae98"
      },
      "execution_count": 51,
      "outputs": [
        {
          "output_type": "stream",
          "name": "stdout",
          "text": [
            "Modified MSE: 0.4837\n",
            "Modified CCE: 1.3721\n"
          ]
        }
      ]
    },
    {
      "cell_type": "markdown",
      "source": [
        "9. plotting all the four values for undertanding"
      ],
      "metadata": {
        "id": "1dYp5KZK_olP"
      }
    },
    {
      "cell_type": "code",
      "source": [
        "loss_labels = ['Original MSE', 'Modified MSE', 'Original CCE', 'Modified CCE']\n",
        "loss_values = [mse_value, mse_value_modified, cce_value, cce_value_modified]"
      ],
      "metadata": {
        "id": "S8nyATsH3vu_"
      },
      "execution_count": 52,
      "outputs": []
    },
    {
      "cell_type": "markdown",
      "source": [
        "10. using plt.fugure(figsize) to plot the graph in 6, 4 ratio, title Loss Comaparison: MSE vs. CCE"
      ],
      "metadata": {
        "id": "mvqncRJe_us5"
      }
    },
    {
      "cell_type": "code",
      "source": [
        "plt.figure(figsize=(6, 4))\n",
        "plt.bar(loss_labels, loss_values, color=['blue', 'cyan', 'red', 'orange'])\n",
        "plt.ylabel(\"Loss Value\")\n",
        "plt.title(\"Loss Comparison: MSE vs. CCE\")\n",
        "plt.show()"
      ],
      "metadata": {
        "colab": {
          "base_uri": "https://localhost:8080/",
          "height": 391
        },
        "id": "SNh0qpm03xT2",
        "outputId": "81e30f2e-00a3-427b-f3bb-97c1132c7832"
      },
      "execution_count": 53,
      "outputs": [
        {
          "output_type": "display_data",
          "data": {
            "text/plain": [
              "<Figure size 600x400 with 1 Axes>"
            ],
            "image/png": "[encoded data removed]"
          },
          "metadata": {}
        }
      ]
    },
    {
      "cell_type": "markdown",
      "source": [
        "Observation: from the bar chart visualisations the MSE values show relatively small difference, indicating that minor modifications in predictions have a moderate effect on MSE. On the other hand, the CCE values, are significantly higher, reflecting the fact that categorical cross-entropy is more sensitive to probability variations in classification problems. The small drop in CCE for the modified predictions suggests that the updated predictions are slightly better aligned with the true labels.\n",
        "\n",
        "Overall, the graph highlights how different loss functions react to changes in predictions, with CCE demonstrating a higher impact on model evaluation in classification tasks."
      ],
      "metadata": {
        "id": "WJIEwuqyAGUN"
      }
    }
  ]
}