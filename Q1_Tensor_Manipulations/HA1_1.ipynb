{
  "nbformat": 4,
  "nbformat_minor": 0,
  "metadata": {
    "colab": {
      "provenance": []
    },
    "kernelspec": {
      "name": "python3",
      "display_name": "Python 3"
    },
    "language_info": {
      "name": "python"
    }
  },
  "cells": [
    {
      "cell_type": "code",
      "execution_count": 1,
      "metadata": {
        "id": "lTbV34WJtQEz"
      },
      "outputs": [],
      "source": [
        "import tensorflow as tf"
      ]
    },
    {
      "cell_type": "markdown",
      "source": [
        "1. creating a random tansor names randTensor of shape (4, 6) with integer values between 0 and 10 with integer data type (int32)\n",
        "2. using tf.random.uniform to generate uniformly generated integers."
      ],
      "metadata": {
        "id": "xH_8ES6Ftxun"
      }
    },
    {
      "cell_type": "code",
      "source": [
        "randTensor = tf.random.uniform(shape = (4, 6), minval = 0, maxval = 10, dtype = tf.int32)"
      ],
      "metadata": {
        "id": "sjxFqsYMtYlH"
      },
      "execution_count": 4,
      "outputs": []
    },
    {
      "cell_type": "markdown",
      "source": [
        "3. Getting the rank ( dimension ) and shape of the original tensor (randTensor) (tf.rank returns the rank and .shape gives us the shape of the tensor)"
      ],
      "metadata": {
        "id": "WbxANJbDuzfF"
      }
    },
    {
      "cell_type": "code",
      "source": [
        "randTensorRank = tf.rank(randTensor).numpy()\n",
        "randTensorShape = randTensor.shape"
      ],
      "metadata": {
        "id": "-WBNRICFuasc"
      },
      "execution_count": 5,
      "outputs": []
    },
    {
      "cell_type": "markdown",
      "source": [
        "4. Printing the rank and shape of the original tensor (randTensor)"
      ],
      "metadata": {
        "id": "2lc201RWvXMm"
      }
    },
    {
      "cell_type": "code",
      "source": [
        "print(f\"Original Rank: {randTensorRank}, Original Shape: {randTensorShape}\")"
      ],
      "metadata": {
        "colab": {
          "base_uri": "https://localhost:8080/"
        },
        "id": "c7Zvb27dvHYP",
        "outputId": "8970fc50-4f79-434f-a97b-69b9e0f6d812"
      },
      "execution_count": 6,
      "outputs": [
        {
          "output_type": "stream",
          "name": "stdout",
          "text": [
            "Original Rank: 2, Original Shape: (4, 6)\n"
          ]
        }
      ]
    },
    {
      "cell_type": "markdown",
      "source": [
        "5. reshaping the tensor shape from (4, 6) to (2, 3, 4) using tf.reshape to get this, reshaping changes the structurer of the tensor without altering its data. using tf.rank and .shape to get the rank and shape of the modified tensor"
      ],
      "metadata": {
        "id": "3vnf4yXkv105"
      }
    },
    {
      "cell_type": "code",
      "source": [
        "reshapedTensor = tf.reshape(randTensor, (2, 3, 4))\n",
        "reshapedTensorRank = tf.rank(reshapedTensor).numpy()\n",
        "reshapedTensorShape = reshapedTensor.shape"
      ],
      "metadata": {
        "id": "s57CgSUSvcCn"
      },
      "execution_count": 8,
      "outputs": []
    },
    {
      "cell_type": "markdown",
      "source": [
        "6. Printing the rank and shape of the modified/reshaped tensor"
      ],
      "metadata": {
        "id": "BTZ0rmv-w2TU"
      }
    },
    {
      "cell_type": "code",
      "source": [
        "print(f\"Reshaped Rank: {reshapedTensorRank}, Reshaped Shape: {reshapedTensorShape}\")"
      ],
      "metadata": {
        "colab": {
          "base_uri": "https://localhost:8080/"
        },
        "id": "_SaKHdvLwqDk",
        "outputId": "c814ab2c-581a-403b-8a4e-b0dcc62a085c"
      },
      "execution_count": 9,
      "outputs": [
        {
          "output_type": "stream",
          "name": "stdout",
          "text": [
            "Reshaped Rank: 3, Reshaped Shape: (2, 3, 4)\n"
          ]
        }
      ]
    },
    {
      "cell_type": "markdown",
      "source": [
        "7. Transpose the reshaped tensor from shape (2, 3, 4) to (3, 2, 4), swaps the axes of the tensor according to the specified permutation. Here, perm=[1, 0, 2] swaps the first and second axes"
      ],
      "metadata": {
        "id": "b-nbReD2xBbK"
      }
    },
    {
      "cell_type": "code",
      "source": [
        "transposedTensor = tf.transpose(reshapedTensor, perm=[1, 0, 2])\n",
        "transposedRank = tf.rank(transposedTensor).numpy()\n",
        "transposedShape = transposedTensor.shape"
      ],
      "metadata": {
        "id": "_zMtLicZw4Ro"
      },
      "execution_count": 14,
      "outputs": []
    },
    {
      "cell_type": "markdown",
      "source": [
        "8. printing the rank and shape of the modified tensor"
      ],
      "metadata": {
        "id": "AuYeZvDIxjq3"
      }
    },
    {
      "cell_type": "code",
      "source": [
        "print(f\"Transposed Rank: {transposedRank}, Transposed Shape: {transposedShape}\")"
      ],
      "metadata": {
        "colab": {
          "base_uri": "https://localhost:8080/"
        },
        "id": "dnxwTP9qxZYk",
        "outputId": "44b899a4-9acf-4911-c8bd-44c990ec6687"
      },
      "execution_count": 16,
      "outputs": [
        {
          "output_type": "stream",
          "name": "stdout",
          "text": [
            "Transposed Rank: 3, Transposed Shape: (3, 2, 4)\n"
          ]
        }
      ]
    },
    {
      "cell_type": "markdown",
      "source": [
        "9. creating a smaller tensor of shape (1, 4) with minimum value and maximum values are ste to 0 and 10 respectively, we will broadcast this tensor to match the shape of the transposed tensor"
      ],
      "metadata": {
        "id": "fAdst-i6x_dK"
      }
    },
    {
      "cell_type": "code",
      "source": [
        "smallTensor = tf.random.uniform(shape=(1, 4), minval=0, maxval=10, dtype=tf.int32)"
      ],
      "metadata": {
        "id": "yqjyiQaQxqi-"
      },
      "execution_count": 17,
      "outputs": []
    },
    {
      "cell_type": "markdown",
      "source": [
        "10. Performing broadcasting and addition, which automatically expands the smaller tensor to match the shape of the larger tensor.\n",
        "11. Here, small_tensor (1, 4) is broadcasted to (3, 2, 4) and added to transposed_tensor (3, 2, 4)"
      ],
      "metadata": {
        "id": "PsnkOG_MyXqT"
      }
    },
    {
      "cell_type": "code",
      "source": [
        "broadcastedSum = transposedTensor + smallTensor"
      ],
      "metadata": {
        "id": "jarFDUQCx1nU"
      },
      "execution_count": 20,
      "outputs": []
    },
    {
      "cell_type": "markdown",
      "source": [
        "12. verify the shape after broadcasting and addition of the smaller tensor"
      ],
      "metadata": {
        "id": "4o8CYhSEyrwx"
      }
    },
    {
      "cell_type": "code",
      "source": [
        "print(f\"Shape after Broadcasting and Addition: {broadcastedSum.shape}\")"
      ],
      "metadata": {
        "colab": {
          "base_uri": "https://localhost:8080/"
        },
        "id": "FFC_rq4fx5EO",
        "outputId": "1cd7e154-2d06-4dbd-ee29-b8b47be8d9f1"
      },
      "execution_count": 21,
      "outputs": [
        {
          "output_type": "stream",
          "name": "stdout",
          "text": [
            "Shape after Broadcasting and Addition: (3, 2, 4)\n"
          ]
        }
      ]
    },
    {
      "cell_type": "markdown",
      "source": [
        "Broadcasting in TensorFlow, allows TensorFlow to perform element-wise operations on tensors of different shapes, automatically expands the smaller tensor by adding dimensions of size 1 starting from the left and then replicates the values along those dimensions to match the larger tensor's shape.\n",
        "\n",
        "Ex: a tensor of shape (1, 4) is broadcasted to (3, 2, 4) by expanding dimensions to (1, 1, 4) and then replicating along the first and second dimensions to match (3, 2, 4)."
      ],
      "metadata": {
        "id": "CbyCrx_hy74T"
      }
    }
  ]
}